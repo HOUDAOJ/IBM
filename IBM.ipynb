{
 "cells": [
  {
   "cell_type": "markdown",
   "id": "be28555c",
   "metadata": {},
   "source": [
    "IBM Tools for Data Science"
   ]
  },
  {
   "cell_type": "markdown",
   "id": "d3103816",
   "metadata": {},
   "source": [
    "Introduction: This file is for the final assignment of IBM Tools for Data Science Final Project"
   ]
  },
  {
   "cell_type": "markdown",
   "id": "64d128ee",
   "metadata": {},
   "source": [
    "Data Science Language: Python, R are most popular, but we can still use Java, C++, Julia, Go for Data Science work. For example, computer vision requires C++ best."
   ]
  },
  {
   "cell_type": "markdown",
   "id": "a839427e",
   "metadata": {},
   "source": [
    "Data Science Libraries: Pandas, Numpy, Skit-learn, Seaborn, matpoliab,tensorflow, pytorch and so on"
   ]
  },
  {
   "cell_type": "markdown",
   "id": "69b60644",
   "metadata": {},
   "source": [
    "| Tool        |\n",
    "| ------------- |\n",
    "| Colab      | \n",
    "| Jupyter      |\n",
    "| Pycharm |\n",
    "| Data Science Libaries |\n",
    "| Tableau |\n",
    "| PowerBI |\n",
    "| Hadoop |\n",
    "| Spark |\n",
    "| aws |"
   ]
  },
  {
   "cell_type": "markdown",
   "id": "946ec0de",
   "metadata": {},
   "source": [
    "1+1=2"
   ]
  },
  {
   "cell_type": "code",
   "execution_count": 3,
   "id": "0b87d2f3",
   "metadata": {},
   "outputs": [
    {
     "data": {
      "text/plain": [
       "6"
      ]
     },
     "execution_count": 3,
     "metadata": {},
     "output_type": "execute_result"
    }
   ],
   "source": [
    "1+1\n",
    "2*3"
   ]
  },
  {
   "cell_type": "code",
   "execution_count": 4,
   "id": "a1f880eb",
   "metadata": {},
   "outputs": [
    {
     "data": {
      "text/plain": [
       "10.0"
      ]
     },
     "execution_count": 4,
     "metadata": {},
     "output_type": "execute_result"
    }
   ],
   "source": [
    "minutes= 600\n",
    "hours = minutes/60\n",
    "hours"
   ]
  },
  {
   "cell_type": "markdown",
   "id": "2edaab1a",
   "metadata": {},
   "source": [
    "Objectives: Pass the peer review"
   ]
  },
  {
   "cell_type": "markdown",
   "id": "ad60bc92",
   "metadata": {},
   "source": [
    "My name is Steven"
   ]
  },
  {
   "cell_type": "code",
   "execution_count": null,
   "id": "dc97585d",
   "metadata": {},
   "outputs": [],
   "source": []
  }
 ],
 "metadata": {
  "kernelspec": {
   "display_name": "Python 3 (ipykernel)",
   "language": "python",
   "name": "python3"
  },
  "language_info": {
   "codemirror_mode": {
    "name": "ipython",
    "version": 3
   },
   "file_extension": ".py",
   "mimetype": "text/x-python",
   "name": "python",
   "nbconvert_exporter": "python",
   "pygments_lexer": "ipython3",
   "version": "3.10.9"
  }
 },
 "nbformat": 4,
 "nbformat_minor": 5
}
